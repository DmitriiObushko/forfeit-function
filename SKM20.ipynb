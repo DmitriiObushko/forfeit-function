{
 "cells": [
  {
   "cell_type": "markdown",
   "id": "95197af6",
   "metadata": {},
   "source": [
    "# Условная оптимизация. Метод штрафных функций"
   ]
  },
  {
   "cell_type": "markdown",
   "id": "bff16d35",
   "metadata": {},
   "source": [
    "Рассмотрим один из многочисленных вариантов метода штрафных функций. Задача условной оптимизации"
   ]
  },
  {
   "cell_type": "markdown",
   "id": "ac477789",
   "metadata": {},
   "source": [
    "$f(x) \\to \\min$"
   ]
  },
  {
   "cell_type": "markdown",
   "id": "7aa8f180",
   "metadata": {},
   "source": [
    "при ограничениях"
   ]
  },
  {
   "cell_type": "markdown",
   "id": "bb391f52",
   "metadata": {},
   "source": [
    "$g_1(x) = 0, \\dots, g_m(x) = 0, \\quad\n",
    "h_1(x) \\le 0, \\dots, h_p(x) \\le 0$"
   ]
  },
  {
   "cell_type": "markdown",
   "id": "91bbc7f6",
   "metadata": {},
   "source": [
    "решается при помощи решения последовательности вспомогательных задач безусловной оптимизации:"
   ]
  },
  {
   "cell_type": "markdown",
   "id": "28db772c",
   "metadata": {},
   "source": [
    "$\\left(F(x) + c\\sum_{i=1}^m g(h_i)^2 + c\\sum_{k=1}^p \\left[ h(h_k) \\right]_+^2\\right) \\to \\min,$"
   ]
  },
  {
   "cell_type": "markdown",
   "id": "1604a31d",
   "metadata": {},
   "source": [
    "где $с$ некоторая возрастающая последовательность (например, геометрическая прогрессия), $[\\alpha]_+ = \\max\\{0,\\,\\alpha\\}$ Реализуйте данный метод. Для решения задачи безусловной оптимизации воспользуйтесь функциями из библиотеки SciPy.\n",
    "\n",
    "Проиллюстрируйте работу метода на двумерной и многомерных функциях Розенброка"
   ]
  },
  {
   "cell_type": "markdown",
   "id": "449667c1",
   "metadata": {},
   "source": [
    "$f(x_1,x_2,\\dots,x_n) = \\sum_{i=1}^{n-1} \\left(  (1-x_i)^2+ 100 (x_{i+1} - x_i^2 )^2 \\right)$"
   ]
  },
  {
   "cell_type": "markdown",
   "id": "a7bb3fc2",
   "metadata": {},
   "source": [
    "с линейными и квадратичными ограничениями. Для $n=2$ изобразите найденные точки минимума на каждой итерации."
   ]
  },
  {
   "cell_type": "code",
   "execution_count": 4,
   "id": "378d46e2",
   "metadata": {},
   "outputs": [],
   "source": [
    "import numpy as npy\n",
    "from scipy import linalg\n",
    "import matplotlib.pyplot as mathplib\n",
    "from scipy.optimize import minimize"
   ]
  },
  {
   "cell_type": "markdown",
   "id": "aa5c3317",
   "metadata": {},
   "source": [
    "Основная идея метода штрафных функций состоит в преобразовании задачи минимизации функции с соответствующими ограничениями, наложенными на x $z = f(x)$, в задачу поиска минимума функции без ограничений. $Z = f(x) + P(x)$"
   ]
  },
  {
   "cell_type": "markdown",
   "id": "67357886",
   "metadata": {},
   "source": [
    "Функция P(x) является штрафной. Необходимо, чтобы при нарушении ограничений она штрафовала Z (Увеличивала ее значение). В этом случае минимум функции Z будет находиться внутри области ограничений. Функция P(x), удовлетворяющая этому условию, может быть не единственной"
   ]
  },
  {
   "cell_type": "markdown",
   "id": "8b8cb715",
   "metadata": {},
   "source": [
    "Сначала я буду работать с функцией Розенброка. Её вид:"
   ]
  },
  {
   "cell_type": "markdown",
   "id": "c1c8a578",
   "metadata": {},
   "source": [
    "$f(x,y) = (1-x)^2+ 100 (y - x^2 )^2$"
   ]
  },
  {
   "cell_type": "markdown",
   "id": "c1963aae",
   "metadata": {},
   "source": [
    "Программа прекратит работу при достижении неизвестной точности. Отобразить можно так:"
   ]
  },
  {
   "cell_type": "markdown",
   "id": "695d60a1",
   "metadata": {},
   "source": [
    "$f(x,y) = (1-x)^2+ 100 (y - x^2 )^2 + P(x) < dot$"
   ]
  },
  {
   "cell_type": "markdown",
   "id": "10c5aa92",
   "metadata": {},
   "source": [
    "$dot$ - погрешность после вычисления"
   ]
  },
  {
   "cell_type": "markdown",
   "id": "59114f9d",
   "metadata": {},
   "source": [
    "Определю ф-ию, коэфф. и ограничения, которые будут нужны в решении"
   ]
  },
  {
   "cell_type": "code",
   "execution_count": 14,
   "id": "c5c53bc5",
   "metadata": {},
   "outputs": [],
   "source": [
    "x_t = [0.5, 0.5] #Стартовая точка\n",
    "j = 1 #Кол-во шагов цикла который будет находить минимум\n",
    "dot = 0.00001 #При достижении точности в данном параметре останавливает работу программы\n",
    "u = 1 #Служит для работы метода, уменьшается на каждм шаге\n",
    "c = 0.5 #Константа, служит для уменьшения предыдущего параметра в c раз\n",
    "\n",
    "a1 = lambda x:(-x[0] + 2) #Первое ограничение\n",
    "a2 = lambda x:(-x[1] + 2) #Второе ограничение\n",
    "\n",
    "\n",
    "rozen = lambda x: ((1-x[0])**2) + 100*(x[1] - x[0]**2)**2 #Функция Розенброка от 2 переменных\n",
    "fun = lambda x: rozen(x) + u*(a1(x)**2 + a2(x)**2)"
   ]
  },
  {
   "cell_type": "markdown",
   "id": "75a100da",
   "metadata": {},
   "source": [
    "# Ограничения"
   ]
  },
  {
   "cell_type": "markdown",
   "id": "74f5d7b6",
   "metadata": {},
   "source": [
    "$x > 2$"
   ]
  },
  {
   "cell_type": "markdown",
   "id": "63b5572d",
   "metadata": {},
   "source": [
    "$y > 2$"
   ]
  },
  {
   "cell_type": "markdown",
   "id": "0e6e6933",
   "metadata": {},
   "source": [
    "Далее программа выведет найденный минимум и максимум"
   ]
  },
  {
   "cell_type": "code",
   "execution_count": 15,
   "id": "6e46d0af",
   "metadata": {},
   "outputs": [
    {
     "name": "stdout",
     "output_type": "stream",
     "text": [
      "Найденный минимум - [1.00001841 1.00003689]\n",
      "Итераций работы программы - 19\n"
     ]
    },
    {
     "data": {
      "image/png": "[encoded data removed]",
      "text/plain": [
       "<Figure size 432x288 with 1 Axes>"
      ]
     },
     "metadata": {
      "needs_background": "light"
     },
     "output_type": "display_data"
    }
   ],
   "source": [
    "while j < 1000:\n",
    "    if(j >= 10):\n",
    "        mathplib.plot(x_t[0], x_t[1], 'o', markersize=5, label=j)\n",
    "    if u*(max(0, a1(x_t))**2 + max(0, a2(x_t))**2) < dot:\n",
    "        break\n",
    "    fun = lambda x: rozen(x) + u*(a1(x)**2 + a2(x)**2)\n",
    "    x_t = minimize(fun, x_t).x;\n",
    "    j += 1\n",
    "    u  *= c;   \n",
    "\n",
    "print(\"Найденный минимум - \" + str(x_t))\n",
    "print(\"Итераций работы программы - \" + str(j))\n",
    "\n",
    "mathplib.xlabel('x')\n",
    "mathplib.ylabel('y')\n",
    "mathplib.legend()\n",
    "\n",
    "pass"
   ]
  },
  {
   "cell_type": "markdown",
   "id": "52abb8b2",
   "metadata": {},
   "source": [
    "## Проверка"
   ]
  },
  {
   "cell_type": "markdown",
   "id": "54d4e5dd",
   "metadata": {},
   "source": [
    "Благодаря ф-ии minimize мое решение не должно сильно отличаться в ходе проверки"
   ]
  },
  {
   "cell_type": "code",
   "execution_count": 20,
   "id": "c63a6f2b",
   "metadata": {},
   "outputs": [
    {
     "data": {
      "text/plain": [
       "     fun: 2.0510953117184906e-08\n",
       "     jac: array([-0.00338142,  0.00157573])\n",
       " message: 'Optimization terminated successfully'\n",
       "    nfev: 51\n",
       "     nit: 15\n",
       "    njev: 15\n",
       "  status: 0\n",
       " success: True\n",
       "       x: array([0.99988035, 0.99976859])"
      ]
     },
     "execution_count": 20,
     "metadata": {},
     "output_type": "execute_result"
    }
   ],
   "source": [
    "rozen = lambda x: ((1-x[0])**2) + (100*(x[1] - x[0]**2)**2)\n",
    "\n",
    "a1 = lambda x: (-x[0] + 2)\n",
    "a2 = lambda x: (-x[1] + 2)\n",
    "\n",
    "x = [0.5, 0.5];\n",
    "\n",
    "constr = ({'type': 'ineq', 'fun': a1},\n",
    "       {'type': 'ineq', 'fun': a2},) \n",
    "\n",
    "minimize(rozen, x, constraints=constr)"
   ]
  },
  {
   "cell_type": "markdown",
   "id": "b88787dc",
   "metadata": {},
   "source": [
    "## Нахождение минимума двумерной ф-ии Розенброка с иными ограничениями"
   ]
  },
  {
   "cell_type": "code",
   "execution_count": 31,
   "id": "31738096",
   "metadata": {},
   "outputs": [],
   "source": [
    "\n",
    "x_t = [5, 20]\n",
    "j = 1\n",
    "dot = 0.00003\n",
    "u = 0.1\n",
    "c = 1\n",
    "\n",
    "a1 = lambda x: (x[1]**2 + x[0]**2 - 15) #Ограничение 1\n",
    "a2 = lambda x: (x[0] + x[1] - 7) #Ограничение 2\n",
    "a3 = lambda x: (x[1]**2 - 3) #Ограничение 3\n",
    "\n",
    "rozen = lambda x: ((1-x[0])**2) + (100*(x[1] - x[0]**2)**2)\n",
    "func = lambda x: rozen(x) + r*(a1(x)**2 + a2(x)**2 + a3(x)**2)"
   ]
  },
  {
   "cell_type": "markdown",
   "id": "d370f352",
   "metadata": {},
   "source": [
    "### Ограничения"
   ]
  },
  {
   "cell_type": "markdown",
   "id": "a21136ed",
   "metadata": {},
   "source": [
    "$y^2 + x^2 > 15$"
   ]
  },
  {
   "cell_type": "markdown",
   "id": "18fcc750",
   "metadata": {},
   "source": [
    "$x + y = 7$"
   ]
  },
  {
   "cell_type": "markdown",
   "id": "f2fac8d8",
   "metadata": {},
   "source": [
    "$y^2 > 3$"
   ]
  },
  {
   "cell_type": "code",
   "execution_count": 33,
   "id": "e211d55d",
   "metadata": {},
   "outputs": [
    {
     "name": "stdout",
     "output_type": "stream",
     "text": [
      "Найденный минимум - [1.84458827 3.40431248]\n",
      "Итераций работы программы - 2\n"
     ]
    },
    {
     "data": {
      "image/png": "[encoded data removed]",
      "text/plain": [
       "<Figure size 432x288 with 1 Axes>"
      ]
     },
     "metadata": {
      "needs_background": "light"
     },
     "output_type": "display_data"
    }
   ],
   "source": [
    "while j < 1000:\n",
    "    if(j >= 1):\n",
    "        mathplib.plot(x_t[0], x_t[1], 'o', markersize=5, label=j)\n",
    "    if u*(max(0, a1(x_t))**2 + max(0, a2(x_t))**2) < dot:\n",
    "        break\n",
    "    func = lambda x: rozen(x) + u*(a1(x)**2 + a2(x)**2)\n",
    "    x_t = minimize(func, x_t).x;\n",
    "    j += 1\n",
    "    u  *= c;   \n",
    "\n",
    "print(\"Найденный минимум - \" + str(x_t))\n",
    "print(\"Итераций работы программы - \" + str(j))\n",
    "\n",
    "mathplib.xlabel('x')\n",
    "mathplib.ylabel('y')\n",
    "mathplib.legend()\n",
    "\n",
    "pass"
   ]
  },
  {
   "cell_type": "code",
   "execution_count": 34,
   "id": "7d91004a",
   "metadata": {},
   "outputs": [
    {
     "data": {
      "text/plain": [
       "     fun: 1.4217624515266867\n",
       "     jac: array([0.44322076, 0.44274758])\n",
       " message: 'Optimization terminated successfully'\n",
       "    nfev: 94\n",
       "     nit: 27\n",
       "    njev: 27\n",
       "  status: 0\n",
       " success: True\n",
       "       x: array([2.19217129, 4.80782871])"
      ]
     },
     "execution_count": 34,
     "metadata": {},
     "output_type": "execute_result"
    }
   ],
   "source": [
    "rozen = lambda x: (1-x[0])**2 + 100*(x[1] - x[0]**2)**2;\n",
    "\n",
    "a1 = lambda x: (x[1]**2 + x[0]**2 - 15) #Ограничение 1\n",
    "a2 = lambda x: (x[0] + x[1] - 7) #Ограничение 2\n",
    "a3 = lambda x: (x[1]**2 - 3) #Ограничение 3\n",
    "\n",
    "x = [5, 20];\n",
    "\n",
    "constr = ({'type': 'ineq', 'fun': a1},\n",
    "       {'type': 'ineq', 'fun': a2},\n",
    "       {'type': 'ineq', 'fun': a3}) \n",
    "\n",
    "minimize(rozen, x, constraints=constr)"
   ]
  },
  {
   "cell_type": "markdown",
   "id": "cb363bcb",
   "metadata": {},
   "source": [
    "Метод штрафных ф-ий можно использовать для решения задач оптимизации для того, чтобы найти минимальное значение функции."
   ]
  }
 ],
 "metadata": {
  "kernelspec": {
   "display_name": "Python 3 (ipykernel)",
   "language": "python",
   "name": "python3"
  },
  "language_info": {
   "codemirror_mode": {
    "name": "ipython",
    "version": 3
   },
   "file_extension": ".py",
   "mimetype": "text/x-python",
   "name": "python",
   "nbconvert_exporter": "python",
   "pygments_lexer": "ipython3",
   "version": "3.9.7"
  }
 },
 "nbformat": 4,
 "nbformat_minor": 5
}
